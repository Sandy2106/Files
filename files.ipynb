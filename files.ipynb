{
  "nbformat": 4,
  "nbformat_minor": 0,
  "metadata": {
    "colab": {
      "provenance": []
    },
    "kernelspec": {
      "name": "python3",
      "display_name": "Python 3"
    },
    "language_info": {
      "name": "python"
    }
  },
  "cells": [
    {
      "cell_type": "markdown",
      "source": [
        "#Files, exceptional handling, logging and memory management Questions"
      ],
      "metadata": {
        "id": "whVIyS-AfTRr"
      }
    },
    {
      "cell_type": "markdown",
      "source": [
        " 1. What is the difference between interpreted and compiled languages?\n",
        " - Interpreted Languages: Code is executed line by line at runtime by an interpreter (e.g., Python, JavaScript).\n",
        "\n",
        " - Compiled Languages: Code is translated into machine code before execution (e.g., C, C++).\n",
        "\n",
        " 2. What is exception handling in Python?\n",
        " - Mechanism to handle runtime errors using try, except, else, and finally.\n",
        "\n",
        " 3. What is the purpose of the finally block in exception handling?\n",
        " - Ensures code runs regardless of whether an exception occurs (useful for cleanup operations).\n",
        "\n",
        " 4. What is logging in Python?\n",
        " - Used to record program execution details, debugging info, and errors using the logging module.\n",
        "\n",
        " 5. What is the significance of the __del__ method in Python?\n",
        " - Destructor method, called when an object is garbage collected to free resources.\n",
        "\n",
        " 6. What is the difference between import and from ... import in Python?\n",
        " - import module: Imports the entire module.\n",
        " - from module import function: Imports a specific function/class.\n",
        "\n",
        " 7. How can you handle multiple exceptions in Python?\n",
        " - Using multiple except blocks:-\n",
        " try:\n",
        "    x = 1 / 0\n",
        "except ZeroDivisionError:\n",
        "    print(\"Cannot divide by zero!\")\n",
        "except ValueError:\n",
        "    print(\"Invalid value!\")\n",
        "- Using a tuple:-\n",
        " except (ZeroDivisionError, ValueError) as e:\n",
        "    print(f\"Error: {e}\")\n",
        "\n",
        " 8. What is the purpose of the with statement when handling files in Python?\n",
        " - Ensures proper file handling by automatically closing files:\n",
        " - ex:- with open(\"file.txt\", \"r\") as file:\n",
        "    content = file.read()\n",
        "\n",
        " 9. What is the difference between multithreading and multiprocessing?\n",
        " - Multithreading: Runs multiple threads within the same process (better for I/O-bound tasks).\n",
        "- Multiprocessing: Runs multiple independent processes (better for CPU-bound\n",
        " tasks).\n",
        "\n",
        " 10. What are the advantages of using logging in a program?\n",
        " - Helps in debugging, monitoring, error tracking, and performance analysis.\n",
        "\n",
        " 11. What is memory management in Python?\n",
        " - Automatic memory management using reference counting and garbage collection.\n",
        "\n",
        " 12. What are the basic steps involved in exception handling in Python?\n",
        " - Use try block to wrap code.\n",
        " - Use except to handle errors.\n",
        " - Optionally, use else for code that runs if no error occurs.\n",
        " - Use finally for cleanup.\n",
        "\n",
        " 13. Why is memory management important in Python?\n",
        " - Prevents memory leaks and optimizes performance.\n",
        "\n",
        " 14. What is the role of try and except in exception handling?\n",
        " - try: Defines a block of code that may raise an exception.\n",
        " - except: Handles exceptions gracefully.\n",
        "\n",
        " 15. How does Python's garbage collection system work?\n",
        " - Uses reference counting and a cyclic garbage collector to free unused objects.\n",
        "\n",
        " 16. What is the purpose of the else block in exception handling?\n",
        " - Runs only if no exceptions occur in the try block.\n",
        "\n",
        " 17. What are the common logging levels in Python?\n",
        " - DEBUG\n",
        " -  INFO\n",
        " - WARNING\n",
        " - ERROR\n",
        " - CRITICAL\n",
        "\n",
        " 18. What is the difference between os.fork() and multiprocessing in Python?\n",
        " - os.fork(): Creates a child process (Unix-only).\n",
        " - multiprocessing: Cross-platform module for spawning processes.\n",
        "\n",
        " 19. What is the importance of closing a file in Python?\n",
        " - Prevents data corruption and frees up system resources.\n",
        "\n",
        " 20. What is the difference between file.read() and file.readline() in Python?\n",
        " - file.read(): Reads entire file content.\n",
        " - file.readline(): Reads one line at a time.\n",
        "\n",
        " 21. What is the logging module in Python used for?\n",
        " - Used for recording logs in applications.\n",
        "\n",
        " 22. What is the os module in Python used for in file handling?\n",
        " - Provides file and directory manipulation functions (os.remove(), os.rename()).\n",
        "\n",
        " 23. What are the challenges associated with memory management in Python?\n",
        " - Reference cycles, garbage collection overhead, and fragmentation.\n",
        "\n",
        " 24. How do you raise an exception manually in Python?\n",
        " - Using raise:\n",
        " raise ValueError(\"Invalid input!\")\n",
        "\n",
        " 25. Why is it important to use multithreading in certain applications?\n",
        " - Improves performance in I/O-bound applications like web scraping, networking, and UI updates.\n",
        "\n",
        "\n",
        "\n",
        "\n"
      ],
      "metadata": {
        "id": "YH3z0wHyfTx8"
      }
    },
    {
      "cell_type": "markdown",
      "source": [
        "# Practical Questions"
      ],
      "metadata": {
        "id": "nNAe8Q6llSZ8"
      }
    },
    {
      "cell_type": "markdown",
      "source": [
        "1. How can you open a file for writing in Python and write a string to it?"
      ],
      "metadata": {
        "id": "HuSZReb1lZr2"
      }
    },
    {
      "cell_type": "code",
      "source": [
        "# Open a file for writing (creates the file if it doesn't exist, overwrites if it does)\n",
        "with open(\"example.txt\", \"w\") as file:\n",
        "    file.write(\"Hello, world!\")\n",
        "\n",
        "print(\"File written successfully.\")\n",
        "\n"
      ],
      "metadata": {
        "id": "zSWQ76N8laAf",
        "colab": {
          "base_uri": "https://localhost:8080/"
        },
        "outputId": "87600eb9-b144-4457-bedb-601c4f535481"
      },
      "execution_count": 2,
      "outputs": [
        {
          "output_type": "stream",
          "name": "stdout",
          "text": [
            "File written successfully.\n"
          ]
        }
      ]
    },
    {
      "cell_type": "markdown",
      "source": [
        "2. Write a Python program to read the contents of a file and print each line."
      ],
      "metadata": {
        "id": "eD3mhVR7lanj"
      }
    },
    {
      "cell_type": "code",
      "source": [
        "try:\n",
        "    with open(\"example.txt\", \"r\") as file:\n",
        "        for line in file:\n",
        "            print(line.strip())\n",
        "except FileNotFoundError:\n",
        "    print(\"Error: File not found.\")\n"
      ],
      "metadata": {
        "id": "SX3MyWu2lbHW",
        "colab": {
          "base_uri": "https://localhost:8080/"
        },
        "outputId": "57c0317f-f99d-4455-f5c7-0c8fec482dbb"
      },
      "execution_count": 3,
      "outputs": [
        {
          "output_type": "stream",
          "name": "stdout",
          "text": [
            "Hello, world!\n"
          ]
        }
      ]
    },
    {
      "cell_type": "markdown",
      "source": [
        "3.  How would you handle a case where the file doesn't exist while trying to open it for reading"
      ],
      "metadata": {
        "id": "okW76RjhlbjE"
      }
    },
    {
      "cell_type": "code",
      "source": [
        "try:\n",
        "    with open(\"example.txt\", \"r\") as file:\n",
        "        for line in file:\n",
        "            print(line.strip())\n",
        "except FileNotFoundError:\n",
        "    print(\"Error: The file does not exist. Please check the filename and try again.\")\n"
      ],
      "metadata": {
        "id": "GIXmfipvlczb",
        "colab": {
          "base_uri": "https://localhost:8080/"
        },
        "outputId": "2f25f3bc-3bc8-4080-c3c4-39f107968202"
      },
      "execution_count": 4,
      "outputs": [
        {
          "output_type": "stream",
          "name": "stdout",
          "text": [
            "Hello, world!\n"
          ]
        }
      ]
    },
    {
      "cell_type": "markdown",
      "source": [
        "4. Write a Python script that reads from one file and writes its content to another file."
      ],
      "metadata": {
        "id": "bqWcYb2tle-U"
      }
    },
    {
      "cell_type": "code",
      "source": [
        "# Open the source file for reading and the destination file for writing\n",
        "try:\n",
        "    with open(\"source.txt\", \"r\") as source_file, open(\"destination.txt\", \"w\") as destination_file:\n",
        "        for line in source_file:\n",
        "            destination_file.write(line)\n",
        "    print(\"File copied successfully.\")\n",
        "except FileNotFoundError:\n",
        "    print(\"Error: Source file not found.\")\n",
        "except Exception as e:\n",
        "    print(f\"An error occurred: {e}\")\n",
        "\n"
      ],
      "metadata": {
        "colab": {
          "base_uri": "https://localhost:8080/"
        },
        "id": "UeMvvzJGIRYU",
        "outputId": "5f4a0e63-8e26-4fb8-95a5-f77867fa5f52"
      },
      "execution_count": 5,
      "outputs": [
        {
          "output_type": "stream",
          "name": "stdout",
          "text": [
            "Error: Source file not found.\n"
          ]
        }
      ]
    },
    {
      "cell_type": "markdown",
      "source": [
        "5. How would you catch and handle division by zero error in Python?"
      ],
      "metadata": {
        "id": "jzFWLV1ole61"
      }
    },
    {
      "cell_type": "code",
      "source": [
        "try:\n",
        "    numerator = int(input(\"Enter numerator: \"))\n",
        "    denominator = int(input(\"Enter denominator: \"))\n",
        "    result = numerator / denominator  # This may raise ZeroDivisionError\n",
        "    print(f\"Result: {result}\")\n",
        "except ZeroDivisionError:\n",
        "    print(\"Error: Division by zero is not allowed.\")\n",
        "except ValueError:\n",
        "    print(\"Error: Please enter valid numbers.\")\n"
      ],
      "metadata": {
        "colab": {
          "base_uri": "https://localhost:8080/"
        },
        "id": "YDA_xAE2Ka_H",
        "outputId": "79c706cf-6c02-4c29-c049-6c826a7aeda7"
      },
      "execution_count": 6,
      "outputs": [
        {
          "output_type": "stream",
          "name": "stdout",
          "text": [
            "Enter numerator: 5\n",
            "Enter denominator: 2\n",
            "Result: 2.5\n"
          ]
        }
      ]
    },
    {
      "cell_type": "markdown",
      "source": [
        "6.  Write a Python program that logs an error message to a log file when a division by zero exception occurs."
      ],
      "metadata": {
        "id": "V2uwmxWjle36"
      }
    },
    {
      "cell_type": "code",
      "source": [
        "import logging\n",
        "\n",
        "# Configure logging\n",
        "logging.basicConfig(filename=\"error.log\", level=logging.ERROR,\n",
        "                    format=\"%(asctime)s - %(levelname)s - %(message)s\")\n",
        "\n",
        "try:\n",
        "    numerator = int(input(\"Enter numerator: \"))\n",
        "    denominator = int(input(\"Enter denominator: \"))\n",
        "    result = numerator / denominator\n",
        "    print(f\"Result: {result}\")\n",
        "except ZeroDivisionError:\n",
        "    logging.error(\"Division by zero error occurred.\")\n",
        "    print(\"Error: Division by zero is not allowed. Check error.log for details.\")\n",
        "except ValueError:\n",
        "    logging.error(\"Invalid input: Non-numeric value entered.\")\n",
        "    print(\"Error: Please enter valid numbers.\")\n"
      ],
      "metadata": {
        "colab": {
          "base_uri": "https://localhost:8080/"
        },
        "id": "jyeqVtJLRNYq",
        "outputId": "62ad07cf-c9ee-4e50-defc-80d5eed05a1e"
      },
      "execution_count": 8,
      "outputs": [
        {
          "output_type": "stream",
          "name": "stdout",
          "text": [
            "Enter numerator: 565959\n",
            "Enter denominator: 494\n",
            "Result: 1145.665991902834\n"
          ]
        }
      ]
    },
    {
      "cell_type": "markdown",
      "source": [
        "7. How do you log information at different levels (INFO, ERROR, WARNING) in Python using the logging module?"
      ],
      "metadata": {
        "id": "zz9BHKH_lez6"
      }
    },
    {
      "cell_type": "code",
      "source": [
        "import logging\n",
        "\n",
        "# Configure logging\n",
        "logging.basicConfig(\n",
        "    filename=\"D:\\Sandy\",  # Log file name\n",
        "    level=logging.DEBUG,  # Set minimum logging level\n",
        "    format=\"%(asctime)s - %(levelname)s - %(message)s\",  # Format log messages\n",
        ")\n",
        "\n",
        "# Logging messages at different levels\n",
        "logging.debug(\"This is a DEBUG message.\")  # Detailed debug information\n",
        "logging.info(\"This is an INFO message.\")   # General information\n",
        "logging.warning(\"This is a WARNING message.\")  # Something unexpected but not critical\n",
        "logging.error(\"This is an ERROR message.\")  # A serious issue\n",
        "logging.critical(\"This is a CRITICAL message.\")  # A very serious issue\n",
        "\n",
        "print(\"Log messages written to app.log\")\n"
      ],
      "metadata": {
        "colab": {
          "base_uri": "https://localhost:8080/"
        },
        "id": "ScD0n3BbRgVN",
        "outputId": "85b0c88e-ea5f-4fd7-855d-d392e4f71b61"
      },
      "execution_count": 11,
      "outputs": [
        {
          "output_type": "stream",
          "name": "stderr",
          "text": [
            "WARNING:root:This is a WARNING message.\n",
            "ERROR:root:This is an ERROR message.\n",
            "CRITICAL:root:This is a CRITICAL message.\n"
          ]
        },
        {
          "output_type": "stream",
          "name": "stdout",
          "text": [
            "Log messages written to app.log\n"
          ]
        }
      ]
    },
    {
      "cell_type": "markdown",
      "source": [
        "8. Write a program to handle a file opening error using exception handling"
      ],
      "metadata": {
        "id": "nRZOD-eMlexB"
      }
    },
    {
      "cell_type": "code",
      "source": [
        "try:\n",
        "    # Attempt to open the file\n",
        "    with open(\"D:\\sandesh.pptx\", \"r\") as file:\n",
        "        content = file.read()\n",
        "        print(content)\n",
        "except FileNotFoundError:\n",
        "    print(\"Error: The file does not exist. Please check the filename and try again.\")\n",
        "except PermissionError:\n",
        "    print(\"Error: You do not have permission to access this file.\")\n",
        "except Exception as e:\n",
        "    print(f\"An unexpected error occurred: {e}\")\n"
      ],
      "metadata": {
        "colab": {
          "base_uri": "https://localhost:8080/"
        },
        "id": "-X_vtN4xSj9n",
        "outputId": "f7ad5a6b-0eb5-4cb7-a3c5-fb4cc1a234f2"
      },
      "execution_count": 13,
      "outputs": [
        {
          "output_type": "stream",
          "name": "stdout",
          "text": [
            "Error: The file does not exist. Please check the filename and try again.\n"
          ]
        }
      ]
    },
    {
      "cell_type": "markdown",
      "source": [
        "9. How can you read a file line by line and store its content in a list in Python?"
      ],
      "metadata": {
        "id": "tTkXZkN6leul"
      }
    },
    {
      "cell_type": "code",
      "source": [
        "with open(\"example.txt\", \"r\") as file:\n",
        "    lines = file.readlines()  # Reads all lines into a list\n",
        "\n",
        "print(lines)  # Each line is stored as a list element\n"
      ],
      "metadata": {
        "colab": {
          "base_uri": "https://localhost:8080/"
        },
        "id": "zM-ueMGATCqY",
        "outputId": "da2efab2-cb37-4d59-af53-42be823eb8df"
      },
      "execution_count": 14,
      "outputs": [
        {
          "output_type": "stream",
          "name": "stdout",
          "text": [
            "['Hello, world!']\n"
          ]
        }
      ]
    },
    {
      "cell_type": "markdown",
      "source": [
        "10. How can you append data to an existing file in Python?"
      ],
      "metadata": {
        "id": "R03_ma9Elers"
      }
    },
    {
      "cell_type": "code",
      "source": [
        "try:\n",
        "    with open(\"example.txt\", \"a\") as file:\n",
        "        file.write(\"\\nAdding another line.\")\n",
        "    print(\"Data appended successfully.\")\n",
        "except Exception as e:\n",
        "    print(f\"Error: {e}\")\n",
        "\n"
      ],
      "metadata": {
        "colab": {
          "base_uri": "https://localhost:8080/"
        },
        "id": "ija7vMeyTYfe",
        "outputId": "55a6b2ec-7821-474d-9db4-a34b2360aa97"
      },
      "execution_count": 17,
      "outputs": [
        {
          "output_type": "stream",
          "name": "stdout",
          "text": [
            "Data appended successfully.\n"
          ]
        }
      ]
    },
    {
      "cell_type": "markdown",
      "source": [
        "11. Write a Python program that uses a try-except block to handle an error when attempting to access a\n",
        "dictionary key that doesn't exist"
      ],
      "metadata": {
        "id": "esbrxmb9liRN"
      }
    },
    {
      "cell_type": "code",
      "source": [
        "# Sample dictionary\n",
        "student_scores = {\n",
        "    \"Alice\": 85,\n",
        "    \"Bob\": 90,\n",
        "    \"Charlie\": 78\n",
        "}\n",
        "\n",
        "try:\n",
        "    # Attempt to access a key that may not exist\n",
        "    name = input(\"Enter student name: \")\n",
        "    score = student_scores[name]  # May raise KeyError if name is not in dictionary\n",
        "    print(f\"{name}'s score is: {score}\")\n",
        "except KeyError:\n",
        "    print(\"Error: Student not found in the dictionary.\")\n"
      ],
      "metadata": {
        "colab": {
          "base_uri": "https://localhost:8080/"
        },
        "id": "WaUjSrE9Trfq",
        "outputId": "08a188fe-f63d-4275-a9b7-c26486234a88"
      },
      "execution_count": 18,
      "outputs": [
        {
          "output_type": "stream",
          "name": "stdout",
          "text": [
            "Enter student name: Alice\n",
            "Alice's score is: 85\n"
          ]
        }
      ]
    },
    {
      "cell_type": "markdown",
      "source": [
        "12. Write a program that demonstrates using multiple except blocks to handle different types of exceptions."
      ],
      "metadata": {
        "id": "0vDz730AliNB"
      }
    },
    {
      "cell_type": "code",
      "source": [
        "try:\n",
        "    # Get input from the user\n",
        "    num1 = int(input(\"Enter the first number: \"))  # May raise ValueError\n",
        "    num2 = int(input(\"Enter the second number: \"))  # May raise ValueError\n",
        "\n",
        "    # Perform division\n",
        "    result = num1 / num2  # May raise ZeroDivisionError\n",
        "\n",
        "    # Access dictionary key\n",
        "    sample_dict = {\"a\": 1, \"b\": 2}\n",
        "    key = input(\"Enter a dictionary key: \")  # May raise KeyError\n",
        "    value = sample_dict[key]\n",
        "\n",
        "    print(f\"Result of division: {result}\")\n",
        "    print(f\"Value from dictionary: {value}\")\n",
        "\n",
        "# Handle specific exceptions\n",
        "except ValueError:\n",
        "    print(\"Error: Invalid input. Please enter numeric values.\")\n",
        "\n",
        "except ZeroDivisionError:\n",
        "    print(\"Error: Division by zero is not allowed.\")\n",
        "\n",
        "except KeyError:\n",
        "    print(\"Error: Key not found in the dictionary.\")\n",
        "\n",
        "except Exception as e:  # Catch-all for unexpected errors\n",
        "    print(f\"An unexpected error occurred: {e}\")\n"
      ],
      "metadata": {
        "colab": {
          "base_uri": "https://localhost:8080/"
        },
        "id": "u2gqtGUnT9qy",
        "outputId": "fc14bf20-f07b-457d-e59b-82b24e8dd96e"
      },
      "execution_count": 20,
      "outputs": [
        {
          "output_type": "stream",
          "name": "stdout",
          "text": [
            "Enter the first number: 6\n",
            "Enter the second number: 33\n",
            "Enter a dictionary key: 6\n",
            "Error: Key not found in the dictionary.\n"
          ]
        }
      ]
    },
    {
      "cell_type": "markdown",
      "source": [
        "13. How would you check if a file exists before attempting to read it in Python"
      ],
      "metadata": {
        "id": "ENtXk4C3leU1"
      }
    },
    {
      "cell_type": "code",
      "source": [
        "from pathlib import Path\n",
        "\n",
        "filename = Path(\"example.txt\")\n",
        "\n",
        "if filename.is_file():  # Checks if it's a file (not a directory)\n",
        "    with filename.open(\"r\") as file:\n",
        "        content = file.read()\n",
        "        print(content)\n",
        "else:\n",
        "    print(\"Error: The file does not exist.\")\n"
      ],
      "metadata": {
        "colab": {
          "base_uri": "https://localhost:8080/"
        },
        "id": "bcEn9hs7Uae5",
        "outputId": "2e225fb9-be3c-4195-e88d-c6f7471d8638"
      },
      "execution_count": 21,
      "outputs": [
        {
          "output_type": "stream",
          "name": "stdout",
          "text": [
            "Hello, world!\n",
            "Appending line 1.\n",
            "Appending line 2.\n",
            "Appending line 3.\n",
            "Appending line 1.\n",
            "Appending line 2.\n",
            "Appending line 3.\n",
            "Adding another line.\n"
          ]
        }
      ]
    },
    {
      "cell_type": "markdown",
      "source": [
        "14.  Write a program that uses the logging module to log both informational and error messages."
      ],
      "metadata": {
        "id": "gPZ2vd4zleJf"
      }
    },
    {
      "cell_type": "code",
      "source": [
        "import logging\n",
        "\n",
        "# Configure logging\n",
        "logging.basicConfig(\n",
        "    filename=\"app.log\",  # Log file name\n",
        "    level=logging.DEBUG,  # Log all messages from DEBUG level and above\n",
        "    format=\"%(asctime)s - %(levelname)s - %(message)s\",  # Log format\n",
        ")\n",
        "\n",
        "def divide_numbers(num1, num2):\n",
        "    try:\n",
        "        logging.info(f\"Attempting to divide {num1} by {num2}\")\n",
        "        result = num1 / num2\n",
        "        logging.info(f\"Division successful: {num1} / {num2} = {result}\")\n",
        "        return result\n",
        "    except ZeroDivisionError:\n",
        "        logging.error(\"Error: Attempted to divide by zero.\")\n",
        "        return \"Error: Division by zero is not allowed.\"\n",
        "    except Exception as e:\n",
        "        logging.error(f\"Unexpected error occurred: {e}\")\n",
        "        return f\"Error: {e}\"\n",
        "\n",
        "# Example usage\n",
        "num1 = 10\n",
        "num2 = 0  # This will trigger a ZeroDivisionError\n",
        "\n",
        "print(divide_numbers(num1, num2))\n",
        "print(divide_numbers(10, 2))  # Successful case\n"
      ],
      "metadata": {
        "colab": {
          "base_uri": "https://localhost:8080/"
        },
        "id": "5qPdaG6dUn28",
        "outputId": "9e99ebf6-5559-4d13-b8c3-7d1e8b7c9ca7"
      },
      "execution_count": 22,
      "outputs": [
        {
          "output_type": "stream",
          "name": "stderr",
          "text": [
            "ERROR:root:Error: Attempted to divide by zero.\n"
          ]
        },
        {
          "output_type": "stream",
          "name": "stdout",
          "text": [
            "Error: Division by zero is not allowed.\n",
            "5.0\n"
          ]
        }
      ]
    },
    {
      "cell_type": "markdown",
      "source": [
        "15. Write a Python program that prints the content of a file and handles the case when the file is empty."
      ],
      "metadata": {
        "id": "_bHqSY8old9W"
      }
    },
    {
      "cell_type": "code",
      "source": [
        "import os\n",
        "\n",
        "def read_file(filename):\n",
        "    try:\n",
        "        # Check if the file exists\n",
        "        if not os.path.exists(filename):\n",
        "            print(\"Error: The file does not exist.\")\n",
        "            return\n",
        "\n",
        "        # Open and read the file\n",
        "        with open(filename, \"r\") as file:\n",
        "            content = file.read()\n",
        "\n",
        "            # Check if the file is empty\n",
        "            if not content:\n",
        "                print(\"The file is empty.\")\n",
        "            else:\n",
        "                print(\"File Content:\\n\" + content)\n",
        "\n",
        "    except Exception as e:\n",
        "        print(f\"An unexpected error occurred: {e}\")\n",
        "\n",
        "# Example usage\n",
        "filename = \"example.txt\"  # Change this to your file name\n",
        "read_file(filename)\n"
      ],
      "metadata": {
        "colab": {
          "base_uri": "https://localhost:8080/"
        },
        "id": "GBAdXYdhU9Ex",
        "outputId": "1fc31387-6bac-427e-c85a-5ae898111749"
      },
      "execution_count": 23,
      "outputs": [
        {
          "output_type": "stream",
          "name": "stdout",
          "text": [
            "File Content:\n",
            "Hello, world!\n",
            "Appending line 1.\n",
            "Appending line 2.\n",
            "Appending line 3.\n",
            "Appending line 1.\n",
            "Appending line 2.\n",
            "Appending line 3.\n",
            "Adding another line.\n"
          ]
        }
      ]
    },
    {
      "cell_type": "markdown",
      "source": [
        "16. Demonstrate how to use memory profiling to check the memory usage of a small program."
      ],
      "metadata": {
        "id": "-TcdzYXHldwe"
      }
    },
    {
      "cell_type": "code",
      "source": [
        "from memory_profiler import profile\n",
        "\n",
        "@profile  # Decorator to track memory usage of this function\n",
        "def create_large_list():\n",
        "    large_list = [i for i in range(1000000)]  # Creates a large list (1 million elements)\n",
        "    return large_list\n",
        "\n",
        "if __name__ == \"__main__\":\n",
        "    create_large_list()\n",
        "\n"
      ],
      "metadata": {
        "id": "7Y8VQvwVVycG"
      },
      "execution_count": null,
      "outputs": []
    },
    {
      "cell_type": "markdown",
      "source": [
        "17. Write a Python program to create and write a list of numbers to a file, one number per line."
      ],
      "metadata": {
        "id": "fWu2KLU4lu0p"
      }
    },
    {
      "cell_type": "code",
      "source": [
        "def write_numbers_to_file(filename, numbers):\n",
        "    try:\n",
        "        with open(filename, \"w\") as file:\n",
        "            for number in numbers:\n",
        "                file.write(f\"{number}\\n\")  # Write each number on a new line\n",
        "        print(f\"Numbers written successfully to {filename}\")\n",
        "    except Exception as e:\n",
        "        print(f\"An error occurred: {e}\")\n",
        "\n",
        "# Example usage\n",
        "numbers_list = list(range(1, 11))  # Create a list of numbers from 1 to 10\n",
        "write_numbers_to_file(\"numbers.txt\", numbers_list)\n"
      ],
      "metadata": {
        "colab": {
          "base_uri": "https://localhost:8080/"
        },
        "id": "HQaMS_04WBPE",
        "outputId": "addc579a-9ab6-4026-e1c5-892fd4ffb8dc"
      },
      "execution_count": 28,
      "outputs": [
        {
          "output_type": "stream",
          "name": "stdout",
          "text": [
            "Numbers written successfully to numbers.txt\n"
          ]
        }
      ]
    },
    {
      "cell_type": "markdown",
      "source": [
        "18.  How would you implement a basic logging setup that logs to a file with rotation after 1MB."
      ],
      "metadata": {
        "id": "aNgSfNeLluq5"
      }
    },
    {
      "cell_type": "code",
      "source": [
        "import logging\n",
        "from logging.handlers import RotatingFileHandler\n",
        "\n",
        "# Configure logging\n",
        "log_filename = \"app.log\"\n",
        "log_format = \"%(asctime)s - %(levelname)s - %(message)s\"\n",
        "\n",
        "# Create a rotating file handler (1MB per log file, keep last 3 backups)\n",
        "handler = RotatingFileHandler(log_filename, maxBytes=1_000_000, backupCount=3)\n",
        "\n",
        "# Set the logging format\n",
        "logging.basicConfig(\n",
        "    level=logging.DEBUG,  # Log levels: DEBUG, INFO, WARNING, ERROR, CRITICAL\n",
        "    format=log_format,\n",
        "    handlers=[handler]  # Attach the rotating file handler\n",
        ")\n",
        "\n",
        "# Example logging\n",
        "logging.info(\"This is an informational message.\")\n",
        "logging.error(\"This is an error message.\")\n",
        "logging.debug(\"Debugging details here.\")\n"
      ],
      "metadata": {
        "colab": {
          "base_uri": "https://localhost:8080/"
        },
        "id": "qdIBlMwdWNSB",
        "outputId": "09182ba5-322a-4616-bfed-43ae921dd524"
      },
      "execution_count": 29,
      "outputs": [
        {
          "output_type": "stream",
          "name": "stderr",
          "text": [
            "ERROR:root:This is an error message.\n"
          ]
        }
      ]
    },
    {
      "cell_type": "markdown",
      "source": [
        "19. Write a program that handles both IndexError and KeyError using a try-except block"
      ],
      "metadata": {
        "id": "q-OVXyWClue-"
      }
    },
    {
      "cell_type": "code",
      "source": [
        "def handle_errors():\n",
        "    my_list = [10, 20, 30]\n",
        "    my_dict = {\"a\": 1, \"b\": 2, \"c\": 3}\n",
        "\n",
        "    try:\n",
        "        # Attempt to access an invalid index in the list\n",
        "        index = int(input(\"Enter an index (0-2) to access the list: \"))\n",
        "        print(f\"List value at index {index}: {my_list[index]}\")\n",
        "\n",
        "        # Attempt to access a missing key in the dictionary\n",
        "        key = input(\"Enter a dictionary key (a, b, c): \")\n",
        "        print(f\"Dictionary value for key '{key}': {my_dict[key]}\")\n",
        "\n",
        "    except IndexError:\n",
        "        print(\"Error: Index out of range! Please enter a valid index (0-2).\")\n",
        "\n",
        "    except KeyError:\n",
        "        print(\"Error: Key not found! Please enter a valid key (a, b, c).\")\n",
        "\n",
        "    except Exception as e:\n",
        "        print(f\"An unexpected error occurred: {e}\")\n",
        "\n",
        "# Run the function\n",
        "handle_errors()\n"
      ],
      "metadata": {
        "colab": {
          "base_uri": "https://localhost:8080/"
        },
        "id": "EGUydKQfWYor",
        "outputId": "b6e3ce61-0054-46bc-ec6f-c93274ebf4ce"
      },
      "execution_count": 30,
      "outputs": [
        {
          "output_type": "stream",
          "name": "stdout",
          "text": [
            "Enter an index (0-2) to access the list: 1\n",
            "List value at index 1: 20\n",
            "Enter a dictionary key (a, b, c): a\n",
            "Dictionary value for key 'a': 1\n"
          ]
        }
      ]
    },
    {
      "cell_type": "markdown",
      "source": [
        "20.  How would you open a file and read its contents using a context manager in Python?"
      ],
      "metadata": {
        "id": "JF_Z6ys6luUS"
      }
    },
    {
      "cell_type": "code",
      "source": [
        " filename = \"example.txt\"\n",
        "\n",
        "# Open the file and read its contents\n",
        "with open(filename, \"r\") as file:\n",
        "    content = file.read()  # Read the entire file content\n",
        "    print(content)  # Print the file content\n"
      ],
      "metadata": {
        "colab": {
          "base_uri": "https://localhost:8080/"
        },
        "id": "gK71mh-6Wp_p",
        "outputId": "b5419d17-864e-4df3-8dbd-8c48f7abbf98"
      },
      "execution_count": 31,
      "outputs": [
        {
          "output_type": "stream",
          "name": "stdout",
          "text": [
            "Hello, world!\n",
            "Appending line 1.\n",
            "Appending line 2.\n",
            "Appending line 3.\n",
            "Appending line 1.\n",
            "Appending line 2.\n",
            "Appending line 3.\n",
            "Adding another line.\n"
          ]
        }
      ]
    },
    {
      "cell_type": "markdown",
      "source": [
        "21. Write a Python program that reads a file and prints the number of occurrences of a specific word."
      ],
      "metadata": {
        "id": "Teue3hRCluIH"
      }
    },
    {
      "cell_type": "code",
      "source": [
        "def count_word_occurrences(filename, target_word):\n",
        "    try:\n",
        "        with open(filename, \"r\") as file:\n",
        "            content = file.read().lower()  # Read and convert to lowercase\n",
        "            words = content.split()  # Split content into words\n",
        "            word_count = words.count(target_word.lower())  # Count occurrences\n",
        "\n",
        "        print(f\"The word '{target_word}' appears {word_count} times in '{filename}'.\")\n",
        "\n",
        "    except FileNotFoundError:\n",
        "        print(f\"Error: The file '{filename}' does not exist.\")\n",
        "    except Exception as e:\n",
        "        print(f\"An unexpected error occurred: {e}\")\n",
        "\n",
        "# Example usage\n",
        "filename = \"example.txt\"  # Change this to your file name\n",
        "target_word = input(\"Enter the word to count: \")  # User inputs the word\n",
        "count_word_occurrences(filename, target_word)\n"
      ],
      "metadata": {
        "colab": {
          "base_uri": "https://localhost:8080/"
        },
        "id": "yuv-XGIjW00_",
        "outputId": "db8b45d2-8450-4a50-b25b-6401a644d448"
      },
      "execution_count": 32,
      "outputs": [
        {
          "output_type": "stream",
          "name": "stdout",
          "text": [
            "Enter the word to count: 25\n",
            "The word '25' appears 0 times in 'example.txt'.\n"
          ]
        }
      ]
    },
    {
      "cell_type": "markdown",
      "source": [
        "22. How can you check if a file is empty before attempting to read its contents?"
      ],
      "metadata": {
        "id": "MMrlPdDslt6-"
      }
    },
    {
      "cell_type": "code",
      "source": [
        "import os\n",
        "\n",
        "filename = \"example.txt\"\n",
        "\n",
        "# Check if file exists and is empty\n",
        "if os.path.exists(filename) and os.path.getsize(filename) == 0:\n",
        "    print(f\"The file '{filename}' is empty.\")\n",
        "else:\n",
        "    with open(filename, \"r\") as file:\n",
        "        content = file.read()\n",
        "        print(\"File Content:\\n\", content)\n"
      ],
      "metadata": {
        "colab": {
          "base_uri": "https://localhost:8080/"
        },
        "id": "BVUHJ0vHW5a-",
        "outputId": "9bb4f2d6-b991-4ccd-a936-79903e044cce"
      },
      "execution_count": 33,
      "outputs": [
        {
          "output_type": "stream",
          "name": "stdout",
          "text": [
            "File Content:\n",
            " Hello, world!\n",
            "Appending line 1.\n",
            "Appending line 2.\n",
            "Appending line 3.\n",
            "Appending line 1.\n",
            "Appending line 2.\n",
            "Appending line 3.\n",
            "Adding another line.\n"
          ]
        }
      ]
    },
    {
      "cell_type": "markdown",
      "source": [
        "23.  Write a Python program that writes to a log file when an error occurs during file handling."
      ],
      "metadata": {
        "id": "P0YhBz09ltum"
      }
    },
    {
      "cell_type": "code",
      "source": [
        "import logging\n",
        "\n",
        "# Configure logging\n",
        "logging.basicConfig(\n",
        "    filename=\"file_errors.log\",  # Log file name\n",
        "    level=logging.ERROR,  # Log only errors and critical issues\n",
        "    format=\"%(asctime)s - %(levelname)s - %(message)s\"  # Log format\n",
        ")\n",
        "\n",
        "def read_file(filename):\n",
        "    try:\n",
        "        with open(filename, \"r\") as file:\n",
        "            content = file.read()\n",
        "            print(\"File Content:\\n\", content)\n",
        "    except FileNotFoundError:\n",
        "        logging.error(f\"File '{filename}' not found.\")  # Log error\n",
        "        print(f\"Error: The file '{filename}' does not exist.\")\n",
        "    except PermissionError:\n",
        "        logging.error(f\"Permission denied for file '{filename}'.\")  # Log error\n",
        "        print(f\"Error: Permission denied for file '{filename}'.\")\n",
        "    except Exception as e:\n",
        "        logging.error(f\"An unexpected error occurred: {e}\")  # Log error\n",
        "        print(f\"An unexpected error occurred: {e}\")\n",
        "\n",
        "# Example usage\n",
        "filename = \"example.txt\"  # Change this to test different scenarios\n",
        "read_file(filename)\n"
      ],
      "metadata": {
        "colab": {
          "base_uri": "https://localhost:8080/"
        },
        "id": "yCs0Xm6UW5xU",
        "outputId": "0dd78f7c-ce5e-4da7-9fb0-d02ef63e1e43"
      },
      "execution_count": 34,
      "outputs": [
        {
          "output_type": "stream",
          "name": "stdout",
          "text": [
            "File Content:\n",
            " Hello, world!\n",
            "Appending line 1.\n",
            "Appending line 2.\n",
            "Appending line 3.\n",
            "Appending line 1.\n",
            "Appending line 2.\n",
            "Appending line 3.\n",
            "Adding another line.\n"
          ]
        }
      ]
    }
  ]
}